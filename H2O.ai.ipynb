{
 "cells": [
  {
   "cell_type": "markdown",
   "metadata": {},
   "source": [
    "# Week 1 - Getting started with H2O"
   ]
  },
  {
   "cell_type": "code",
   "execution_count": 13,
   "metadata": {},
   "outputs": [
    {
     "name": "stdout",
     "output_type": "stream",
     "text": [
      "Checking whether there is an H2O instance running at http://localhost:54321..... not found.\n",
      "Attempting to start a local H2O server...\n",
      "; OpenJDK 64-Bit Server VM (Zulu 8.20.0.5-win64) (build 25.121-b15, mixed mode)\n",
      "  Starting server from C:\\Anaconda_Python\\lib\\site-packages\\h2o\\backend\\bin\\h2o.jar\n",
      "  Ice root: C:\\Users\\HEETGO~1\\AppData\\Local\\Temp\\tmpteciq_u1\n",
      "  JVM stdout: C:\\Users\\HEETGO~1\\AppData\\Local\\Temp\\tmpteciq_u1\\h2o_Heet_Gorakhitya_started_from_python.out\n",
      "  JVM stderr: C:\\Users\\HEETGO~1\\AppData\\Local\\Temp\\tmpteciq_u1\\h2o_Heet_Gorakhitya_started_from_python.err\n",
      "  Server is running at http://127.0.0.1:54321\n",
      "Connecting to H2O server at http://127.0.0.1:54321... successful.\n"
     ]
    },
    {
     "data": {
      "text/html": [
       "<div style=\"overflow:auto\"><table style=\"width:50%\"><tr><td>H2O cluster uptime:</td>\n",
       "<td>09 secs</td></tr>\n",
       "<tr><td>H2O cluster timezone:</td>\n",
       "<td>Asia/Kolkata</td></tr>\n",
       "<tr><td>H2O data parsing timezone:</td>\n",
       "<td>UTC</td></tr>\n",
       "<tr><td>H2O cluster version:</td>\n",
       "<td>3.22.1.3</td></tr>\n",
       "<tr><td>H2O cluster version age:</td>\n",
       "<td>12 days </td></tr>\n",
       "<tr><td>H2O cluster name:</td>\n",
       "<td>H2O_from_python_Heet_Gorakhitya_s4j1ug</td></tr>\n",
       "<tr><td>H2O cluster total nodes:</td>\n",
       "<td>1</td></tr>\n",
       "<tr><td>H2O cluster free memory:</td>\n",
       "<td>885 Mb</td></tr>\n",
       "<tr><td>H2O cluster total cores:</td>\n",
       "<td>0</td></tr>\n",
       "<tr><td>H2O cluster allowed cores:</td>\n",
       "<td>0</td></tr>\n",
       "<tr><td>H2O cluster status:</td>\n",
       "<td>accepting new members, healthy</td></tr>\n",
       "<tr><td>H2O connection url:</td>\n",
       "<td>http://127.0.0.1:54321</td></tr>\n",
       "<tr><td>H2O connection proxy:</td>\n",
       "<td>None</td></tr>\n",
       "<tr><td>H2O internal security:</td>\n",
       "<td>False</td></tr>\n",
       "<tr><td>H2O API Extensions:</td>\n",
       "<td>Algos, AutoML, Core V3, Core V4</td></tr>\n",
       "<tr><td>Python version:</td>\n",
       "<td>3.6.5 final</td></tr></table></div>"
      ],
      "text/plain": [
       "--------------------------  --------------------------------------\n",
       "H2O cluster uptime:         09 secs\n",
       "H2O cluster timezone:       Asia/Kolkata\n",
       "H2O data parsing timezone:  UTC\n",
       "H2O cluster version:        3.22.1.3\n",
       "H2O cluster version age:    12 days\n",
       "H2O cluster name:           H2O_from_python_Heet_Gorakhitya_s4j1ug\n",
       "H2O cluster total nodes:    1\n",
       "H2O cluster free memory:    885 Mb\n",
       "H2O cluster total cores:    0\n",
       "H2O cluster allowed cores:  0\n",
       "H2O cluster status:         accepting new members, healthy\n",
       "H2O connection url:         http://127.0.0.1:54321\n",
       "H2O connection proxy:\n",
       "H2O internal security:      False\n",
       "H2O API Extensions:         Algos, AutoML, Core V3, Core V4\n",
       "Python version:             3.6.5 final\n",
       "--------------------------  --------------------------------------"
      ]
     },
     "metadata": {},
     "output_type": "display_data"
    }
   ],
   "source": [
    "import h2o\n",
    "h2o.init()"
   ]
  },
  {
   "cell_type": "code",
   "execution_count": 14,
   "metadata": {},
   "outputs": [
    {
     "name": "stdout",
     "output_type": "stream",
     "text": [
      "Parse progress: |█████████████████████████████████████████████████████████| 100%\n"
     ]
    }
   ],
   "source": [
    "url = \"http://h2o-public-test-data.s3.amazonaws.com/smalldata/iris/iris_wheader.csv\"\n",
    "iris = h2o.import_file(url)"
   ]
  },
  {
   "cell_type": "code",
   "execution_count": 15,
   "metadata": {
    "collapsed": true
   },
   "outputs": [],
   "source": [
    "train, test = iris.split_frame([0.8])"
   ]
  },
  {
   "cell_type": "code",
   "execution_count": 8,
   "metadata": {},
   "outputs": [
    {
     "name": "stdout",
     "output_type": "stream",
     "text": [
      "deeplearning Model Build progress: |██████████████████████████████████████| 100%\n"
     ]
    }
   ],
   "source": [
    "from h2o.estimators.deeplearning import H2ODeepLearningEstimator\n",
    "model = H2ODeepLearningEstimator()\n",
    "model.train([\"sepal_len\", \"sepal_wid\", \"petal_len\", \"petal_wid\"], \"class\", train)"
   ]
  },
  {
   "cell_type": "code",
   "execution_count": 10,
   "metadata": {},
   "outputs": [
    {
     "name": "stdout",
     "output_type": "stream",
     "text": [
      "deeplearning prediction progress: |███████████████████████████████████████| 100%\n"
     ]
    },
    {
     "data": {
      "text/html": [
       "<table>\n",
       "<thead>\n",
       "<tr><th>predict    </th><th style=\"text-align: right;\">  Iris-setosa</th><th style=\"text-align: right;\">  Iris-versicolor</th><th style=\"text-align: right;\">  Iris-virginica</th></tr>\n",
       "</thead>\n",
       "<tbody>\n",
       "<tr><td>Iris-setosa</td><td style=\"text-align: right;\">     0.999814</td><td style=\"text-align: right;\">      0.000186047</td><td style=\"text-align: right;\">     8.92796e-25</td></tr>\n",
       "<tr><td>Iris-setosa</td><td style=\"text-align: right;\">     0.999232</td><td style=\"text-align: right;\">      0.000767794</td><td style=\"text-align: right;\">     3.10771e-24</td></tr>\n",
       "<tr><td>Iris-setosa</td><td style=\"text-align: right;\">     0.999854</td><td style=\"text-align: right;\">      0.000145593</td><td style=\"text-align: right;\">     1.36877e-24</td></tr>\n",
       "<tr><td>Iris-setosa</td><td style=\"text-align: right;\">     0.999509</td><td style=\"text-align: right;\">      0.000490517</td><td style=\"text-align: right;\">     1.71483e-24</td></tr>\n",
       "<tr><td>Iris-setosa</td><td style=\"text-align: right;\">     0.999977</td><td style=\"text-align: right;\">      2.28831e-05</td><td style=\"text-align: right;\">     1.83937e-25</td></tr>\n",
       "<tr><td>Iris-setosa</td><td style=\"text-align: right;\">     0.999995</td><td style=\"text-align: right;\">      4.86348e-06</td><td style=\"text-align: right;\">     5.87087e-27</td></tr>\n",
       "<tr><td>Iris-setosa</td><td style=\"text-align: right;\">     0.999888</td><td style=\"text-align: right;\">      0.000111759</td><td style=\"text-align: right;\">     6.16226e-24</td></tr>\n",
       "<tr><td>Iris-setosa</td><td style=\"text-align: right;\">     0.999754</td><td style=\"text-align: right;\">      0.000245682</td><td style=\"text-align: right;\">     4.79382e-25</td></tr>\n",
       "<tr><td>Iris-setosa</td><td style=\"text-align: right;\">     0.999365</td><td style=\"text-align: right;\">      0.000634769</td><td style=\"text-align: right;\">     2.96561e-23</td></tr>\n",
       "<tr><td>Iris-setosa</td><td style=\"text-align: right;\">     0.998311</td><td style=\"text-align: right;\">      0.00168945 </td><td style=\"text-align: right;\">     9.1782e-23 </td></tr>\n",
       "</tbody>\n",
       "</table>"
      ]
     },
     "metadata": {},
     "output_type": "display_data"
    },
    {
     "data": {
      "text/plain": []
     },
     "execution_count": 10,
     "metadata": {},
     "output_type": "execute_result"
    }
   ],
   "source": [
    "predictions = model.predict(test)\n",
    "predictions"
   ]
  },
  {
   "cell_type": "code",
   "execution_count": 11,
   "metadata": {},
   "outputs": [
    {
     "name": "stdout",
     "output_type": "stream",
     "text": [
      "\n",
      "ModelMetricsMultinomial: deeplearning\n",
      "** Reported on test data. **\n",
      "\n",
      "MSE: 0.011681654309763175\n",
      "RMSE: 0.10808170201177984\n",
      "LogLoss: 0.03746071400992464\n",
      "Mean Per-Class Error: 0.041666666666666664\n",
      "Confusion Matrix: Row labels: Actual class; Column labels: Predicted class\n",
      "\n"
     ]
    },
    {
     "data": {
      "text/html": [
       "<div style=\"overflow:auto\"><table style=\"width:50%\"><tr><td><b>Iris-setosa</b></td>\n",
       "<td><b>Iris-versicolor</b></td>\n",
       "<td><b>Iris-virginica</b></td>\n",
       "<td><b>Error</b></td>\n",
       "<td><b>Rate</b></td></tr>\n",
       "<tr><td>12.0</td>\n",
       "<td>0.0</td>\n",
       "<td>0.0</td>\n",
       "<td>0.0</td>\n",
       "<td>0 / 12</td></tr>\n",
       "<tr><td>0.0</td>\n",
       "<td>6.0</td>\n",
       "<td>0.0</td>\n",
       "<td>0.0</td>\n",
       "<td>0 / 6</td></tr>\n",
       "<tr><td>0.0</td>\n",
       "<td>1.0</td>\n",
       "<td>7.0</td>\n",
       "<td>0.125</td>\n",
       "<td>1 / 8</td></tr>\n",
       "<tr><td>12.0</td>\n",
       "<td>7.0</td>\n",
       "<td>7.0</td>\n",
       "<td>0.0384615</td>\n",
       "<td>1 / 26</td></tr></table></div>"
      ],
      "text/plain": [
       "Iris-setosa    Iris-versicolor    Iris-virginica    Error      Rate\n",
       "-------------  -----------------  ----------------  ---------  ------\n",
       "12             0                  0                 0          0 / 12\n",
       "0              6                  0                 0          0 / 6\n",
       "0              1                  7                 0.125      1 / 8\n",
       "12             7                  7                 0.0384615  1 / 26"
      ]
     },
     "metadata": {},
     "output_type": "display_data"
    },
    {
     "name": "stdout",
     "output_type": "stream",
     "text": [
      "Top-3 Hit Ratios: \n"
     ]
    },
    {
     "data": {
      "text/html": [
       "<div style=\"overflow:auto\"><table style=\"width:50%\"><tr><td><b>k</b></td>\n",
       "<td><b>hit_ratio</b></td></tr>\n",
       "<tr><td>1</td>\n",
       "<td>0.9615384</td></tr>\n",
       "<tr><td>2</td>\n",
       "<td>1.0</td></tr>\n",
       "<tr><td>3</td>\n",
       "<td>1.0</td></tr></table></div>"
      ],
      "text/plain": [
       "k    hit_ratio\n",
       "---  -----------\n",
       "1    0.961538\n",
       "2    1\n",
       "3    1"
      ]
     },
     "metadata": {},
     "output_type": "display_data"
    },
    {
     "data": {
      "text/plain": []
     },
     "execution_count": 11,
     "metadata": {},
     "output_type": "execute_result"
    }
   ],
   "source": [
    "model.model_performance(test)"
   ]
  },
  {
   "cell_type": "code",
   "execution_count": 12,
   "metadata": {},
   "outputs": [
    {
     "name": "stdout",
     "output_type": "stream",
     "text": [
      "H2O session _sid_8761 closed.\n"
     ]
    }
   ],
   "source": [
    "#h2o.cluster().shutdown()"
   ]
  },
  {
   "cell_type": "code",
   "execution_count": 16,
   "metadata": {},
   "outputs": [
    {
     "name": "stdout",
     "output_type": "stream",
     "text": [
      "AutoML progress: |████████████████████████████████████████████████████████| 100%\n"
     ]
    }
   ],
   "source": [
    "from h2o.automl import H2OAutoML\n",
    "auto_model = H2OAutoML(max_runtime_secs = 300)\n",
    "auto_model.train([\"sepal_len\", \"sepal_wid\", \"petal_len\", \"petal_wid\"], \"class\", train)"
   ]
  },
  {
   "cell_type": "code",
   "execution_count": 17,
   "metadata": {},
   "outputs": [
    {
     "name": "stdout",
     "output_type": "stream",
     "text": [
      "glm prediction progress: |████████████████████████████████████████████████| 100%\n"
     ]
    },
    {
     "data": {
      "text/html": [
       "<table>\n",
       "<thead>\n",
       "<tr><th>predict        </th><th style=\"text-align: right;\">  Iris-setosa</th><th style=\"text-align: right;\">  Iris-versicolor</th><th style=\"text-align: right;\">  Iris-virginica</th></tr>\n",
       "</thead>\n",
       "<tbody>\n",
       "<tr><td>Iris-setosa    </td><td style=\"text-align: right;\">  0.999935   </td><td style=\"text-align: right;\">      6.46358e-05</td><td style=\"text-align: right;\">     8.48534e-22</td></tr>\n",
       "<tr><td>Iris-setosa    </td><td style=\"text-align: right;\">  0.999971   </td><td style=\"text-align: right;\">      2.90325e-05</td><td style=\"text-align: right;\">     4.27828e-23</td></tr>\n",
       "<tr><td>Iris-setosa    </td><td style=\"text-align: right;\">  0.999843   </td><td style=\"text-align: right;\">      0.000157031</td><td style=\"text-align: right;\">     1.70686e-20</td></tr>\n",
       "<tr><td>Iris-setosa    </td><td style=\"text-align: right;\">  0.999994   </td><td style=\"text-align: right;\">      5.90955e-06</td><td style=\"text-align: right;\">     1.2596e-23 </td></tr>\n",
       "<tr><td>Iris-setosa    </td><td style=\"text-align: right;\">  0.99924    </td><td style=\"text-align: right;\">      0.000760059</td><td style=\"text-align: right;\">     7.49715e-19</td></tr>\n",
       "<tr><td>Iris-setosa    </td><td style=\"text-align: right;\">  0.999656   </td><td style=\"text-align: right;\">      0.000343679</td><td style=\"text-align: right;\">     9.73705e-21</td></tr>\n",
       "<tr><td>Iris-setosa    </td><td style=\"text-align: right;\">  0.999723   </td><td style=\"text-align: right;\">      0.000277371</td><td style=\"text-align: right;\">     1.35975e-19</td></tr>\n",
       "<tr><td>Iris-setosa    </td><td style=\"text-align: right;\">  0.999961   </td><td style=\"text-align: right;\">      3.9119e-05 </td><td style=\"text-align: right;\">     5.7793e-22 </td></tr>\n",
       "<tr><td>Iris-versicolor</td><td style=\"text-align: right;\">  4.7555e-06 </td><td style=\"text-align: right;\">      0.999137   </td><td style=\"text-align: right;\">     0.000858658</td></tr>\n",
       "<tr><td>Iris-versicolor</td><td style=\"text-align: right;\">  0.000280349</td><td style=\"text-align: right;\">      0.995027   </td><td style=\"text-align: right;\">     0.00469294 </td></tr>\n",
       "</tbody>\n",
       "</table>"
      ]
     },
     "metadata": {},
     "output_type": "display_data"
    },
    {
     "data": {
      "text/plain": []
     },
     "execution_count": 17,
     "metadata": {},
     "output_type": "execute_result"
    }
   ],
   "source": [
    "auto_predictions = auto_model.leader.predict(test)\n",
    "auto_predictions"
   ]
  },
  {
   "cell_type": "code",
   "execution_count": 21,
   "metadata": {},
   "outputs": [
    {
     "name": "stdout",
     "output_type": "stream",
     "text": [
      "\n",
      "ModelMetricsMultinomialGLM: glm\n",
      "** Reported on test data. **\n",
      "\n",
      "MSE: 0.012780627713001995\n",
      "RMSE: 0.11305143834999179\n"
     ]
    },
    {
     "data": {
      "text/plain": []
     },
     "execution_count": 21,
     "metadata": {},
     "output_type": "execute_result"
    }
   ],
   "source": [
    "auto_model.leader.model_performance(test)"
   ]
  },
  {
   "cell_type": "code",
   "execution_count": 23,
   "metadata": {},
   "outputs": [
    {
     "name": "stdout",
     "output_type": "stream",
     "text": [
      "drf Model Build progress: |███████████████████████████████████████████████| 100%\n"
     ]
    }
   ],
   "source": [
    "from h2o.estimators.random_forest import H2ORandomForestEstimator\n",
    "rfmodel = H2ORandomForestEstimator()\n",
    "rfmodel.train([\"sepal_len\", \"sepal_wid\", \"petal_len\", \"petal_wid\"], \"class\", train)"
   ]
  },
  {
   "cell_type": "code",
   "execution_count": 25,
   "metadata": {},
   "outputs": [
    {
     "name": "stdout",
     "output_type": "stream",
     "text": [
      "drf prediction progress: |████████████████████████████████████████████████| 100%\n"
     ]
    },
    {
     "data": {
      "text/html": [
       "<table>\n",
       "<thead>\n",
       "<tr><th>predict        </th><th style=\"text-align: right;\">  Iris-setosa</th><th style=\"text-align: right;\">  Iris-versicolor</th><th style=\"text-align: right;\">  Iris-virginica</th></tr>\n",
       "</thead>\n",
       "<tbody>\n",
       "<tr><td>Iris-setosa    </td><td style=\"text-align: right;\">     0.997818</td><td style=\"text-align: right;\">         0       </td><td style=\"text-align: right;\">      0.00218154</td></tr>\n",
       "<tr><td>Iris-setosa    </td><td style=\"text-align: right;\">     0.997818</td><td style=\"text-align: right;\">         0       </td><td style=\"text-align: right;\">      0.00218154</td></tr>\n",
       "<tr><td>Iris-setosa    </td><td style=\"text-align: right;\">     0.997818</td><td style=\"text-align: right;\">         0       </td><td style=\"text-align: right;\">      0.00218154</td></tr>\n",
       "<tr><td>Iris-setosa    </td><td style=\"text-align: right;\">     0.997818</td><td style=\"text-align: right;\">         0       </td><td style=\"text-align: right;\">      0.00218154</td></tr>\n",
       "<tr><td>Iris-setosa    </td><td style=\"text-align: right;\">     0.997818</td><td style=\"text-align: right;\">         0       </td><td style=\"text-align: right;\">      0.00218154</td></tr>\n",
       "<tr><td>Iris-setosa    </td><td style=\"text-align: right;\">     0.997818</td><td style=\"text-align: right;\">         0       </td><td style=\"text-align: right;\">      0.00218154</td></tr>\n",
       "<tr><td>Iris-setosa    </td><td style=\"text-align: right;\">     0.997818</td><td style=\"text-align: right;\">         0       </td><td style=\"text-align: right;\">      0.00218154</td></tr>\n",
       "<tr><td>Iris-setosa    </td><td style=\"text-align: right;\">     0.997818</td><td style=\"text-align: right;\">         0       </td><td style=\"text-align: right;\">      0.00218154</td></tr>\n",
       "<tr><td>Iris-versicolor</td><td style=\"text-align: right;\">     0       </td><td style=\"text-align: right;\">         0.976942</td><td style=\"text-align: right;\">      0.0230582 </td></tr>\n",
       "<tr><td>Iris-versicolor</td><td style=\"text-align: right;\">     0       </td><td style=\"text-align: right;\">         0.997818</td><td style=\"text-align: right;\">      0.00218154</td></tr>\n",
       "</tbody>\n",
       "</table>"
      ]
     },
     "metadata": {},
     "output_type": "display_data"
    },
    {
     "data": {
      "text/plain": []
     },
     "execution_count": 25,
     "metadata": {},
     "output_type": "execute_result"
    }
   ],
   "source": [
    "rfpreds = rfmodel.predict(test)\n",
    "rfpreds"
   ]
  },
  {
   "cell_type": "code",
   "execution_count": 26,
   "metadata": {},
   "outputs": [
    {
     "name": "stdout",
     "output_type": "stream",
     "text": [
      "Model Details\n",
      "=============\n",
      "H2ORandomForestEstimator :  Distributed Random Forest\n",
      "Model Key:  DRF_model_python_1549539787372_1\n",
      "\n",
      "\n",
      "ModelMetricsMultinomial: drf\n",
      "** Reported on train data. **\n",
      "\n",
      "MSE: 0.03763616743827016\n",
      "RMSE: 0.19400043154145344\n",
      "LogLoss: 0.11217183437804473\n",
      "Mean Per-Class Error: 0.04939024390243902\n",
      "Confusion Matrix: Row labels: Actual class; Column labels: Predicted class\n",
      "\n"
     ]
    },
    {
     "data": {
      "text/html": [
       "<div style=\"overflow:auto\"><table style=\"width:50%\"><tr><td><b>Iris-setosa</b></td>\n",
       "<td><b>Iris-versicolor</b></td>\n",
       "<td><b>Iris-virginica</b></td>\n",
       "<td><b>Error</b></td>\n",
       "<td><b>Rate</b></td></tr>\n",
       "<tr><td>42.0</td>\n",
       "<td>0.0</td>\n",
       "<td>0.0</td>\n",
       "<td>0.0</td>\n",
       "<td>0 / 42</td></tr>\n",
       "<tr><td>0.0</td>\n",
       "<td>38.0</td>\n",
       "<td>3.0</td>\n",
       "<td>0.0731707</td>\n",
       "<td>3 / 41</td></tr>\n",
       "<tr><td>0.0</td>\n",
       "<td>3.0</td>\n",
       "<td>37.0</td>\n",
       "<td>0.075</td>\n",
       "<td>3 / 40</td></tr>\n",
       "<tr><td>42.0</td>\n",
       "<td>41.0</td>\n",
       "<td>40.0</td>\n",
       "<td>0.0487805</td>\n",
       "<td>6 / 123</td></tr></table></div>"
      ],
      "text/plain": [
       "Iris-setosa    Iris-versicolor    Iris-virginica    Error      Rate\n",
       "-------------  -----------------  ----------------  ---------  -------\n",
       "42             0                  0                 0          0 / 42\n",
       "0              38                 3                 0.0731707  3 / 41\n",
       "0              3                  37                0.075      3 / 40\n",
       "42             41                 40                0.0487805  6 / 123"
      ]
     },
     "metadata": {},
     "output_type": "display_data"
    },
    {
     "name": "stdout",
     "output_type": "stream",
     "text": [
      "Top-3 Hit Ratios: \n"
     ]
    },
    {
     "data": {
      "text/html": [
       "<div style=\"overflow:auto\"><table style=\"width:50%\"><tr><td><b>k</b></td>\n",
       "<td><b>hit_ratio</b></td></tr>\n",
       "<tr><td>1</td>\n",
       "<td>0.9512195</td></tr>\n",
       "<tr><td>2</td>\n",
       "<td>1.0</td></tr>\n",
       "<tr><td>3</td>\n",
       "<td>1.0</td></tr></table></div>"
      ],
      "text/plain": [
       "k    hit_ratio\n",
       "---  -----------\n",
       "1    0.951219\n",
       "2    1\n",
       "3    1"
      ]
     },
     "metadata": {},
     "output_type": "display_data"
    },
    {
     "name": "stdout",
     "output_type": "stream",
     "text": [
      "Scoring History: \n"
     ]
    },
    {
     "data": {
      "text/html": [
       "<div style=\"overflow:auto\"><table style=\"width:50%\"><tr><td><b></b></td>\n",
       "<td><b>timestamp</b></td>\n",
       "<td><b>duration</b></td>\n",
       "<td><b>number_of_trees</b></td>\n",
       "<td><b>training_rmse</b></td>\n",
       "<td><b>training_logloss</b></td>\n",
       "<td><b>training_classification_error</b></td></tr>\n",
       "<tr><td></td>\n",
       "<td>2019-02-07 18:39:31</td>\n",
       "<td> 0.117 sec</td>\n",
       "<td>0.0</td>\n",
       "<td>nan</td>\n",
       "<td>nan</td>\n",
       "<td>nan</td></tr>\n",
       "<tr><td></td>\n",
       "<td>2019-02-07 18:39:32</td>\n",
       "<td> 1.111 sec</td>\n",
       "<td>1.0</td>\n",
       "<td>0.2581989</td>\n",
       "<td>2.3025851</td>\n",
       "<td>0.0666667</td></tr>\n",
       "<tr><td></td>\n",
       "<td>2019-02-07 18:39:32</td>\n",
       "<td> 1.127 sec</td>\n",
       "<td>2.0</td>\n",
       "<td>0.2791453</td>\n",
       "<td>2.6913332</td>\n",
       "<td>0.0779221</td></tr>\n",
       "<tr><td></td>\n",
       "<td>2019-02-07 18:39:32</td>\n",
       "<td> 1.127 sec</td>\n",
       "<td>3.0</td>\n",
       "<td>0.2514132</td>\n",
       "<td>1.7946116</td>\n",
       "<td>0.0816327</td></tr>\n",
       "<tr><td></td>\n",
       "<td>2019-02-07 18:39:32</td>\n",
       "<td> 1.127 sec</td>\n",
       "<td>4.0</td>\n",
       "<td>0.2590119</td>\n",
       "<td>1.9330128</td>\n",
       "<td>0.0825688</td></tr>\n",
       "<tr><td>---</td>\n",
       "<td>---</td>\n",
       "<td>---</td>\n",
       "<td>---</td>\n",
       "<td>---</td>\n",
       "<td>---</td>\n",
       "<td>---</td></tr>\n",
       "<tr><td></td>\n",
       "<td>2019-02-07 18:39:32</td>\n",
       "<td> 1.548 sec</td>\n",
       "<td>46.0</td>\n",
       "<td>0.1943656</td>\n",
       "<td>0.1147102</td>\n",
       "<td>0.0487805</td></tr>\n",
       "<tr><td></td>\n",
       "<td>2019-02-07 18:39:32</td>\n",
       "<td> 1.552 sec</td>\n",
       "<td>47.0</td>\n",
       "<td>0.1961596</td>\n",
       "<td>0.1165224</td>\n",
       "<td>0.0650407</td></tr>\n",
       "<tr><td></td>\n",
       "<td>2019-02-07 18:39:32</td>\n",
       "<td> 1.556 sec</td>\n",
       "<td>48.0</td>\n",
       "<td>0.1930950</td>\n",
       "<td>0.1106255</td>\n",
       "<td>0.0569106</td></tr>\n",
       "<tr><td></td>\n",
       "<td>2019-02-07 18:39:32</td>\n",
       "<td> 1.564 sec</td>\n",
       "<td>49.0</td>\n",
       "<td>0.1946163</td>\n",
       "<td>0.1123759</td>\n",
       "<td>0.0650407</td></tr>\n",
       "<tr><td></td>\n",
       "<td>2019-02-07 18:39:32</td>\n",
       "<td> 1.564 sec</td>\n",
       "<td>50.0</td>\n",
       "<td>0.1940004</td>\n",
       "<td>0.1121718</td>\n",
       "<td>0.0487805</td></tr></table></div>"
      ],
      "text/plain": [
       "     timestamp            duration    number_of_trees    training_rmse        training_logloss     training_classification_error\n",
       "---  -------------------  ----------  -----------------  -------------------  -------------------  -------------------------------\n",
       "     2019-02-07 18:39:31  0.117 sec   0.0                nan                  nan                  nan\n",
       "     2019-02-07 18:39:32  1.111 sec   1.0                0.2581988897471611   2.3025850929940455   0.06666666666666667\n",
       "     2019-02-07 18:39:32  1.127 sec   2.0                0.27914526311954124  2.691333225577456    0.07792207792207792\n",
       "     2019-02-07 18:39:32  1.127 sec   3.0                0.25141323907074853  1.7946115898459323   0.08163265306122448\n",
       "     2019-02-07 18:39:32  1.127 sec   4.0                0.2590118838264043   1.933012791488659    0.08256880733944955\n",
       "---  ---                  ---         ---                ---                  ---                  ---\n",
       "     2019-02-07 18:39:32  1.548 sec   46.0               0.19436555396286842  0.11471018663341843  0.04878048780487805\n",
       "     2019-02-07 18:39:32  1.552 sec   47.0               0.19615960142728206  0.11652240768385544  0.06504065040650407\n",
       "     2019-02-07 18:39:32  1.556 sec   48.0               0.19309501000504756  0.11062550972852188  0.056910569105691054\n",
       "     2019-02-07 18:39:32  1.564 sec   49.0               0.1946163335049221   0.11237590263295025  0.06504065040650407\n",
       "     2019-02-07 18:39:32  1.564 sec   50.0               0.19400043154145344  0.11217183437804473  0.04878048780487805"
      ]
     },
     "metadata": {},
     "output_type": "display_data"
    },
    {
     "name": "stdout",
     "output_type": "stream",
     "text": [
      "\n",
      "See the whole table with table.as_data_frame()\n",
      "Variable Importances: \n"
     ]
    },
    {
     "data": {
      "text/html": [
       "<div style=\"overflow:auto\"><table style=\"width:50%\"><tr><td><b>variable</b></td>\n",
       "<td><b>relative_importance</b></td>\n",
       "<td><b>scaled_importance</b></td>\n",
       "<td><b>percentage</b></td></tr>\n",
       "<tr><td>petal_len</td>\n",
       "<td>1607.8045654</td>\n",
       "<td>1.0</td>\n",
       "<td>0.4554470</td></tr>\n",
       "<tr><td>petal_wid</td>\n",
       "<td>1419.5438232</td>\n",
       "<td>0.8829082</td>\n",
       "<td>0.4021179</td></tr>\n",
       "<tr><td>sepal_len</td>\n",
       "<td>388.7242737</td>\n",
       "<td>0.2417733</td>\n",
       "<td>0.1101149</td></tr>\n",
       "<tr><td>sepal_wid</td>\n",
       "<td>114.0955658</td>\n",
       "<td>0.0709636</td>\n",
       "<td>0.0323201</td></tr></table></div>"
      ],
      "text/plain": [
       "variable    relative_importance    scaled_importance    percentage\n",
       "----------  ---------------------  -------------------  ------------\n",
       "petal_len   1607.8                 1                    0.455447\n",
       "petal_wid   1419.54                0.882908             0.402118\n",
       "sepal_len   388.724                0.241773             0.110115\n",
       "sepal_wid   114.096                0.0709636            0.0323201"
      ]
     },
     "metadata": {},
     "output_type": "display_data"
    },
    {
     "data": {
      "text/plain": []
     },
     "execution_count": 26,
     "metadata": {},
     "output_type": "execute_result"
    }
   ],
   "source": [
    "rfmodel"
   ]
  },
  {
   "cell_type": "code",
   "execution_count": 27,
   "metadata": {},
   "outputs": [
    {
     "name": "stdout",
     "output_type": "stream",
     "text": [
      "\n",
      "ModelMetricsMultinomial: drf\n",
      "** Reported on test data. **\n",
      "\n",
      "MSE: 0.021175709284524943\n",
      "RMSE: 0.14551875921861396\n",
      "LogLoss: 0.07153463521925674\n",
      "Mean Per-Class Error: 0.037037037037037035\n",
      "Confusion Matrix: Row labels: Actual class; Column labels: Predicted class\n",
      "\n"
     ]
    },
    {
     "data": {
      "text/html": [
       "<div style=\"overflow:auto\"><table style=\"width:50%\"><tr><td><b>Iris-setosa</b></td>\n",
       "<td><b>Iris-versicolor</b></td>\n",
       "<td><b>Iris-virginica</b></td>\n",
       "<td><b>Error</b></td>\n",
       "<td><b>Rate</b></td></tr>\n",
       "<tr><td>8.0</td>\n",
       "<td>0.0</td>\n",
       "<td>0.0</td>\n",
       "<td>0.0</td>\n",
       "<td>0 / 8</td></tr>\n",
       "<tr><td>0.0</td>\n",
       "<td>8.0</td>\n",
       "<td>1.0</td>\n",
       "<td>0.1111111</td>\n",
       "<td>1 / 9</td></tr>\n",
       "<tr><td>0.0</td>\n",
       "<td>0.0</td>\n",
       "<td>10.0</td>\n",
       "<td>0.0</td>\n",
       "<td>0 / 10</td></tr>\n",
       "<tr><td>8.0</td>\n",
       "<td>8.0</td>\n",
       "<td>11.0</td>\n",
       "<td>0.0370370</td>\n",
       "<td>1 / 27</td></tr></table></div>"
      ],
      "text/plain": [
       "Iris-setosa    Iris-versicolor    Iris-virginica    Error     Rate\n",
       "-------------  -----------------  ----------------  --------  ------\n",
       "8              0                  0                 0         0 / 8\n",
       "0              8                  1                 0.111111  1 / 9\n",
       "0              0                  10                0         0 / 10\n",
       "8              8                  11                0.037037  1 / 27"
      ]
     },
     "metadata": {},
     "output_type": "display_data"
    },
    {
     "name": "stdout",
     "output_type": "stream",
     "text": [
      "Top-3 Hit Ratios: \n"
     ]
    },
    {
     "data": {
      "text/html": [
       "<div style=\"overflow:auto\"><table style=\"width:50%\"><tr><td><b>k</b></td>\n",
       "<td><b>hit_ratio</b></td></tr>\n",
       "<tr><td>1</td>\n",
       "<td>0.962963</td></tr>\n",
       "<tr><td>2</td>\n",
       "<td>1.0</td></tr>\n",
       "<tr><td>3</td>\n",
       "<td>1.0</td></tr></table></div>"
      ],
      "text/plain": [
       "k    hit_ratio\n",
       "---  -----------\n",
       "1    0.962963\n",
       "2    1\n",
       "3    1"
      ]
     },
     "metadata": {},
     "output_type": "display_data"
    },
    {
     "data": {
      "text/plain": []
     },
     "execution_count": 27,
     "metadata": {},
     "output_type": "execute_result"
    }
   ],
   "source": [
    "rfmodel.model_performance(test)"
   ]
  },
  {
   "cell_type": "markdown",
   "metadata": {},
   "source": [
    "# Week 2 - Starting with importing custom data"
   ]
  },
  {
   "cell_type": "code",
   "execution_count": 28,
   "metadata": {
    "collapsed": true
   },
   "outputs": [],
   "source": [
    "import h2o\n",
    "import numpy as np\n",
    "import pandas as pd\n",
    "import matplotlib.pyplot as plt"
   ]
  },
  {
   "cell_type": "code",
   "execution_count": 29,
   "metadata": {},
   "outputs": [
    {
     "name": "stdout",
     "output_type": "stream",
     "text": [
      "Checking whether there is an H2O instance running at http://localhost:54321. connected.\n"
     ]
    },
    {
     "data": {
      "text/html": [
       "<div style=\"overflow:auto\"><table style=\"width:50%\"><tr><td>H2O cluster uptime:</td>\n",
       "<td>1 hour 45 mins</td></tr>\n",
       "<tr><td>H2O cluster timezone:</td>\n",
       "<td>Asia/Kolkata</td></tr>\n",
       "<tr><td>H2O data parsing timezone:</td>\n",
       "<td>UTC</td></tr>\n",
       "<tr><td>H2O cluster version:</td>\n",
       "<td>3.22.1.3</td></tr>\n",
       "<tr><td>H2O cluster version age:</td>\n",
       "<td>12 days </td></tr>\n",
       "<tr><td>H2O cluster name:</td>\n",
       "<td>H2O_from_python_Heet_Gorakhitya_s4j1ug</td></tr>\n",
       "<tr><td>H2O cluster total nodes:</td>\n",
       "<td>1</td></tr>\n",
       "<tr><td>H2O cluster free memory:</td>\n",
       "<td>654 Mb</td></tr>\n",
       "<tr><td>H2O cluster total cores:</td>\n",
       "<td>4</td></tr>\n",
       "<tr><td>H2O cluster allowed cores:</td>\n",
       "<td>4</td></tr>\n",
       "<tr><td>H2O cluster status:</td>\n",
       "<td>locked, healthy</td></tr>\n",
       "<tr><td>H2O connection url:</td>\n",
       "<td>http://localhost:54321</td></tr>\n",
       "<tr><td>H2O connection proxy:</td>\n",
       "<td>None</td></tr>\n",
       "<tr><td>H2O internal security:</td>\n",
       "<td>False</td></tr>\n",
       "<tr><td>H2O API Extensions:</td>\n",
       "<td>Algos, AutoML, Core V3, Core V4</td></tr>\n",
       "<tr><td>Python version:</td>\n",
       "<td>3.6.5 final</td></tr></table></div>"
      ],
      "text/plain": [
       "--------------------------  --------------------------------------\n",
       "H2O cluster uptime:         1 hour 45 mins\n",
       "H2O cluster timezone:       Asia/Kolkata\n",
       "H2O data parsing timezone:  UTC\n",
       "H2O cluster version:        3.22.1.3\n",
       "H2O cluster version age:    12 days\n",
       "H2O cluster name:           H2O_from_python_Heet_Gorakhitya_s4j1ug\n",
       "H2O cluster total nodes:    1\n",
       "H2O cluster free memory:    654 Mb\n",
       "H2O cluster total cores:    4\n",
       "H2O cluster allowed cores:  4\n",
       "H2O cluster status:         locked, healthy\n",
       "H2O connection url:         http://localhost:54321\n",
       "H2O connection proxy:\n",
       "H2O internal security:      False\n",
       "H2O API Extensions:         Algos, AutoML, Core V3, Core V4\n",
       "Python version:             3.6.5 final\n",
       "--------------------------  --------------------------------------"
      ]
     },
     "metadata": {},
     "output_type": "display_data"
    }
   ],
   "source": [
    "h2o.init()"
   ]
  },
  {
   "cell_type": "code",
   "execution_count": 30,
   "metadata": {
    "collapsed": true
   },
   "outputs": [],
   "source": [
    "x = [z*0.01 for z in range(0, 1001)]\n",
    "y = np.sin(x)\n",
    "y = y + np.random.normal(0, 0.1, len(x))"
   ]
  },
  {
   "cell_type": "code",
   "execution_count": 31,
   "metadata": {},
   "outputs": [
    {
     "data": {
      "image/png": "[encoded data removed]",
      "text/plain": [
       "<matplotlib.figure.Figure at 0x1ce170ba8d0>"
      ]
     },
     "metadata": {},
     "output_type": "display_data"
    }
   ],
   "source": [
    "plt.plot(x, y)\n",
    "plt.show()"
   ]
  },
  {
   "cell_type": "code",
   "execution_count": 34,
   "metadata": {},
   "outputs": [
    {
     "name": "stdout",
     "output_type": "stream",
     "text": [
      "Parse progress: |█████████████████████████████████████████████████████████| 100%\n"
     ]
    },
    {
     "data": {
      "text/html": [
       "<table>\n",
       "<thead>\n",
       "<tr><th style=\"text-align: right;\">   a</th><th style=\"text-align: right;\">          b</th></tr>\n",
       "</thead>\n",
       "<tbody>\n",
       "<tr><td style=\"text-align: right;\">0   </td><td style=\"text-align: right;\">-0.0523579 </td></tr>\n",
       "<tr><td style=\"text-align: right;\">0.01</td><td style=\"text-align: right;\"> 0.184029  </td></tr>\n",
       "<tr><td style=\"text-align: right;\">0.02</td><td style=\"text-align: right;\"> 0.168842  </td></tr>\n",
       "<tr><td style=\"text-align: right;\">0.03</td><td style=\"text-align: right;\"> 0.0071562 </td></tr>\n",
       "<tr><td style=\"text-align: right;\">0.04</td><td style=\"text-align: right;\"> 0.0725344 </td></tr>\n",
       "<tr><td style=\"text-align: right;\">0.05</td><td style=\"text-align: right;\">-0.066683  </td></tr>\n",
       "<tr><td style=\"text-align: right;\">0.06</td><td style=\"text-align: right;\"> 0.0621148 </td></tr>\n",
       "<tr><td style=\"text-align: right;\">0.07</td><td style=\"text-align: right;\"> 0.132121  </td></tr>\n",
       "<tr><td style=\"text-align: right;\">0.08</td><td style=\"text-align: right;\"> 0.00749022</td></tr>\n",
       "<tr><td style=\"text-align: right;\">0.09</td><td style=\"text-align: right;\"> 0.0937313 </td></tr>\n",
       "</tbody>\n",
       "</table>"
      ]
     },
     "metadata": {},
     "output_type": "display_data"
    },
    {
     "data": {
      "text/plain": []
     },
     "execution_count": 34,
     "metadata": {},
     "output_type": "execute_result"
    }
   ],
   "source": [
    "sine_wave = pd.DataFrame({'a':x, 'b':y})\n",
    "sine_wave_h2o = h2o.H2OFrame(sine_wave)\n",
    "sine_wave_h2o"
   ]
  },
  {
   "cell_type": "code",
   "execution_count": 35,
   "metadata": {},
   "outputs": [
    {
     "data": {
      "text/html": [
       "<div>\n",
       "<style scoped>\n",
       "    .dataframe tbody tr th:only-of-type {\n",
       "        vertical-align: middle;\n",
       "    }\n",
       "\n",
       "    .dataframe tbody tr th {\n",
       "        vertical-align: top;\n",
       "    }\n",
       "\n",
       "    .dataframe thead th {\n",
       "        text-align: right;\n",
       "    }\n",
       "</style>\n",
       "<table border=\"1\" class=\"dataframe\">\n",
       "  <thead>\n",
       "    <tr style=\"text-align: right;\">\n",
       "      <th></th>\n",
       "      <th>a</th>\n",
       "      <th>b</th>\n",
       "    </tr>\n",
       "  </thead>\n",
       "  <tbody>\n",
       "    <tr>\n",
       "      <th>0</th>\n",
       "      <td>0.00</td>\n",
       "      <td>-0.052358</td>\n",
       "    </tr>\n",
       "    <tr>\n",
       "      <th>1</th>\n",
       "      <td>0.01</td>\n",
       "      <td>0.184029</td>\n",
       "    </tr>\n",
       "    <tr>\n",
       "      <th>2</th>\n",
       "      <td>0.02</td>\n",
       "      <td>0.168842</td>\n",
       "    </tr>\n",
       "    <tr>\n",
       "      <th>3</th>\n",
       "      <td>0.03</td>\n",
       "      <td>0.007156</td>\n",
       "    </tr>\n",
       "    <tr>\n",
       "      <th>4</th>\n",
       "      <td>0.04</td>\n",
       "      <td>0.072534</td>\n",
       "    </tr>\n",
       "    <tr>\n",
       "      <th>5</th>\n",
       "      <td>0.05</td>\n",
       "      <td>-0.066683</td>\n",
       "    </tr>\n",
       "    <tr>\n",
       "      <th>6</th>\n",
       "      <td>0.06</td>\n",
       "      <td>0.062115</td>\n",
       "    </tr>\n",
       "    <tr>\n",
       "      <th>7</th>\n",
       "      <td>0.07</td>\n",
       "      <td>0.132121</td>\n",
       "    </tr>\n",
       "    <tr>\n",
       "      <th>8</th>\n",
       "      <td>0.08</td>\n",
       "      <td>0.007490</td>\n",
       "    </tr>\n",
       "    <tr>\n",
       "      <th>9</th>\n",
       "      <td>0.09</td>\n",
       "      <td>0.093731</td>\n",
       "    </tr>\n",
       "    <tr>\n",
       "      <th>10</th>\n",
       "      <td>0.10</td>\n",
       "      <td>0.156663</td>\n",
       "    </tr>\n",
       "    <tr>\n",
       "      <th>11</th>\n",
       "      <td>0.11</td>\n",
       "      <td>0.142680</td>\n",
       "    </tr>\n",
       "    <tr>\n",
       "      <th>12</th>\n",
       "      <td>0.12</td>\n",
       "      <td>-0.014904</td>\n",
       "    </tr>\n",
       "    <tr>\n",
       "      <th>13</th>\n",
       "      <td>0.13</td>\n",
       "      <td>0.121194</td>\n",
       "    </tr>\n",
       "    <tr>\n",
       "      <th>14</th>\n",
       "      <td>0.14</td>\n",
       "      <td>0.136506</td>\n",
       "    </tr>\n",
       "    <tr>\n",
       "      <th>15</th>\n",
       "      <td>0.15</td>\n",
       "      <td>0.173875</td>\n",
       "    </tr>\n",
       "    <tr>\n",
       "      <th>16</th>\n",
       "      <td>0.16</td>\n",
       "      <td>0.057954</td>\n",
       "    </tr>\n",
       "    <tr>\n",
       "      <th>17</th>\n",
       "      <td>0.17</td>\n",
       "      <td>0.303748</td>\n",
       "    </tr>\n",
       "    <tr>\n",
       "      <th>18</th>\n",
       "      <td>0.18</td>\n",
       "      <td>0.224527</td>\n",
       "    </tr>\n",
       "    <tr>\n",
       "      <th>19</th>\n",
       "      <td>0.19</td>\n",
       "      <td>0.343109</td>\n",
       "    </tr>\n",
       "    <tr>\n",
       "      <th>20</th>\n",
       "      <td>0.20</td>\n",
       "      <td>0.248641</td>\n",
       "    </tr>\n",
       "    <tr>\n",
       "      <th>21</th>\n",
       "      <td>0.21</td>\n",
       "      <td>0.325693</td>\n",
       "    </tr>\n",
       "    <tr>\n",
       "      <th>22</th>\n",
       "      <td>0.22</td>\n",
       "      <td>0.246662</td>\n",
       "    </tr>\n",
       "    <tr>\n",
       "      <th>23</th>\n",
       "      <td>0.23</td>\n",
       "      <td>0.278419</td>\n",
       "    </tr>\n",
       "    <tr>\n",
       "      <th>24</th>\n",
       "      <td>0.24</td>\n",
       "      <td>0.169435</td>\n",
       "    </tr>\n",
       "    <tr>\n",
       "      <th>25</th>\n",
       "      <td>0.25</td>\n",
       "      <td>0.133288</td>\n",
       "    </tr>\n",
       "    <tr>\n",
       "      <th>26</th>\n",
       "      <td>0.26</td>\n",
       "      <td>0.238388</td>\n",
       "    </tr>\n",
       "    <tr>\n",
       "      <th>27</th>\n",
       "      <td>0.27</td>\n",
       "      <td>0.377866</td>\n",
       "    </tr>\n",
       "    <tr>\n",
       "      <th>28</th>\n",
       "      <td>0.28</td>\n",
       "      <td>0.041576</td>\n",
       "    </tr>\n",
       "    <tr>\n",
       "      <th>29</th>\n",
       "      <td>0.29</td>\n",
       "      <td>0.341527</td>\n",
       "    </tr>\n",
       "    <tr>\n",
       "      <th>...</th>\n",
       "      <td>...</td>\n",
       "      <td>...</td>\n",
       "    </tr>\n",
       "    <tr>\n",
       "      <th>971</th>\n",
       "      <td>9.71</td>\n",
       "      <td>-0.204365</td>\n",
       "    </tr>\n",
       "    <tr>\n",
       "      <th>972</th>\n",
       "      <td>9.72</td>\n",
       "      <td>-0.118573</td>\n",
       "    </tr>\n",
       "    <tr>\n",
       "      <th>973</th>\n",
       "      <td>9.73</td>\n",
       "      <td>-0.392931</td>\n",
       "    </tr>\n",
       "    <tr>\n",
       "      <th>974</th>\n",
       "      <td>9.74</td>\n",
       "      <td>-0.252080</td>\n",
       "    </tr>\n",
       "    <tr>\n",
       "      <th>975</th>\n",
       "      <td>9.75</td>\n",
       "      <td>-0.383294</td>\n",
       "    </tr>\n",
       "    <tr>\n",
       "      <th>976</th>\n",
       "      <td>9.76</td>\n",
       "      <td>-0.369544</td>\n",
       "    </tr>\n",
       "    <tr>\n",
       "      <th>977</th>\n",
       "      <td>9.77</td>\n",
       "      <td>-0.366485</td>\n",
       "    </tr>\n",
       "    <tr>\n",
       "      <th>978</th>\n",
       "      <td>9.78</td>\n",
       "      <td>-0.403103</td>\n",
       "    </tr>\n",
       "    <tr>\n",
       "      <th>979</th>\n",
       "      <td>9.79</td>\n",
       "      <td>-0.320653</td>\n",
       "    </tr>\n",
       "    <tr>\n",
       "      <th>980</th>\n",
       "      <td>9.80</td>\n",
       "      <td>-0.416186</td>\n",
       "    </tr>\n",
       "    <tr>\n",
       "      <th>981</th>\n",
       "      <td>9.81</td>\n",
       "      <td>-0.263331</td>\n",
       "    </tr>\n",
       "    <tr>\n",
       "      <th>982</th>\n",
       "      <td>9.82</td>\n",
       "      <td>-0.276042</td>\n",
       "    </tr>\n",
       "    <tr>\n",
       "      <th>983</th>\n",
       "      <td>9.83</td>\n",
       "      <td>-0.483457</td>\n",
       "    </tr>\n",
       "    <tr>\n",
       "      <th>984</th>\n",
       "      <td>9.84</td>\n",
       "      <td>-0.387278</td>\n",
       "    </tr>\n",
       "    <tr>\n",
       "      <th>985</th>\n",
       "      <td>9.85</td>\n",
       "      <td>-0.362557</td>\n",
       "    </tr>\n",
       "    <tr>\n",
       "      <th>986</th>\n",
       "      <td>9.86</td>\n",
       "      <td>-0.356534</td>\n",
       "    </tr>\n",
       "    <tr>\n",
       "      <th>987</th>\n",
       "      <td>9.87</td>\n",
       "      <td>-0.421732</td>\n",
       "    </tr>\n",
       "    <tr>\n",
       "      <th>988</th>\n",
       "      <td>9.88</td>\n",
       "      <td>-0.595583</td>\n",
       "    </tr>\n",
       "    <tr>\n",
       "      <th>989</th>\n",
       "      <td>9.89</td>\n",
       "      <td>-0.389061</td>\n",
       "    </tr>\n",
       "    <tr>\n",
       "      <th>990</th>\n",
       "      <td>9.90</td>\n",
       "      <td>-0.414208</td>\n",
       "    </tr>\n",
       "    <tr>\n",
       "      <th>991</th>\n",
       "      <td>9.91</td>\n",
       "      <td>-0.507977</td>\n",
       "    </tr>\n",
       "    <tr>\n",
       "      <th>992</th>\n",
       "      <td>9.92</td>\n",
       "      <td>-0.430214</td>\n",
       "    </tr>\n",
       "    <tr>\n",
       "      <th>993</th>\n",
       "      <td>9.93</td>\n",
       "      <td>-0.572858</td>\n",
       "    </tr>\n",
       "    <tr>\n",
       "      <th>994</th>\n",
       "      <td>9.94</td>\n",
       "      <td>-0.497322</td>\n",
       "    </tr>\n",
       "    <tr>\n",
       "      <th>995</th>\n",
       "      <td>9.95</td>\n",
       "      <td>-0.449674</td>\n",
       "    </tr>\n",
       "    <tr>\n",
       "      <th>996</th>\n",
       "      <td>9.96</td>\n",
       "      <td>-0.388638</td>\n",
       "    </tr>\n",
       "    <tr>\n",
       "      <th>997</th>\n",
       "      <td>9.97</td>\n",
       "      <td>-0.554379</td>\n",
       "    </tr>\n",
       "    <tr>\n",
       "      <th>998</th>\n",
       "      <td>9.98</td>\n",
       "      <td>-0.692732</td>\n",
       "    </tr>\n",
       "    <tr>\n",
       "      <th>999</th>\n",
       "      <td>9.99</td>\n",
       "      <td>-0.488211</td>\n",
       "    </tr>\n",
       "    <tr>\n",
       "      <th>1000</th>\n",
       "      <td>10.00</td>\n",
       "      <td>-0.451142</td>\n",
       "    </tr>\n",
       "  </tbody>\n",
       "</table>\n",
       "<p>1001 rows × 2 columns</p>\n",
       "</div>"
      ],
      "text/plain": [
       "          a         b\n",
       "0      0.00 -0.052358\n",
       "1      0.01  0.184029\n",
       "2      0.02  0.168842\n",
       "3      0.03  0.007156\n",
       "4      0.04  0.072534\n",
       "5      0.05 -0.066683\n",
       "6      0.06  0.062115\n",
       "7      0.07  0.132121\n",
       "8      0.08  0.007490\n",
       "9      0.09  0.093731\n",
       "10     0.10  0.156663\n",
       "11     0.11  0.142680\n",
       "12     0.12 -0.014904\n",
       "13     0.13  0.121194\n",
       "14     0.14  0.136506\n",
       "15     0.15  0.173875\n",
       "16     0.16  0.057954\n",
       "17     0.17  0.303748\n",
       "18     0.18  0.224527\n",
       "19     0.19  0.343109\n",
       "20     0.20  0.248641\n",
       "21     0.21  0.325693\n",
       "22     0.22  0.246662\n",
       "23     0.23  0.278419\n",
       "24     0.24  0.169435\n",
       "25     0.25  0.133288\n",
       "26     0.26  0.238388\n",
       "27     0.27  0.377866\n",
       "28     0.28  0.041576\n",
       "29     0.29  0.341527\n",
       "...     ...       ...\n",
       "971    9.71 -0.204365\n",
       "972    9.72 -0.118573\n",
       "973    9.73 -0.392931\n",
       "974    9.74 -0.252080\n",
       "975    9.75 -0.383294\n",
       "976    9.76 -0.369544\n",
       "977    9.77 -0.366485\n",
       "978    9.78 -0.403103\n",
       "979    9.79 -0.320653\n",
       "980    9.80 -0.416186\n",
       "981    9.81 -0.263331\n",
       "982    9.82 -0.276042\n",
       "983    9.83 -0.483457\n",
       "984    9.84 -0.387278\n",
       "985    9.85 -0.362557\n",
       "986    9.86 -0.356534\n",
       "987    9.87 -0.421732\n",
       "988    9.88 -0.595583\n",
       "989    9.89 -0.389061\n",
       "990    9.90 -0.414208\n",
       "991    9.91 -0.507977\n",
       "992    9.92 -0.430214\n",
       "993    9.93 -0.572858\n",
       "994    9.94 -0.497322\n",
       "995    9.95 -0.449674\n",
       "996    9.96 -0.388638\n",
       "997    9.97 -0.554379\n",
       "998    9.98 -0.692732\n",
       "999    9.99 -0.488211\n",
       "1000  10.00 -0.451142\n",
       "\n",
       "[1001 rows x 2 columns]"
      ]
     },
     "execution_count": 35,
     "metadata": {},
     "output_type": "execute_result"
    }
   ],
   "source": [
    "sine_wave_h2o.as_data_frame()"
   ]
  },
  {
   "cell_type": "markdown",
   "metadata": {},
   "source": [
    "# Week 2 - Self-made dataset evaluation"
   ]
  },
  {
   "cell_type": "code",
   "execution_count": null,
   "metadata": {
    "collapsed": true
   },
   "outputs": [],
   "source": [
    "+"
   ]
  }
 ],
 "metadata": {
  "kernelspec": {
   "display_name": "Python 3",
   "language": "python",
   "name": "python3"
  },
  "language_info": {
   "codemirror_mode": {
    "name": "ipython",
    "version": 3
   },
   "file_extension": ".py",
   "mimetype": "text/x-python",
   "name": "python",
   "nbconvert_exporter": "python",
   "pygments_lexer": "ipython3",
   "version": "3.6.5"
  }
 },
 "nbformat": 4,
 "nbformat_minor": 2
}
